{
  "nbformat": 4,
  "nbformat_minor": 0,
  "metadata": {
    "colab": {
      "provenance": [],
      "authorship_tag": "ABX9TyO6OHuq8g44+BPL+SctrUpi",
      "include_colab_link": true
    },
    "kernelspec": {
      "name": "python3",
      "display_name": "Python 3"
    },
    "language_info": {
      "name": "python"
    }
  },
  "cells": [
    {
      "cell_type": "markdown",
      "metadata": {
        "id": "view-in-github",
        "colab_type": "text"
      },
      "source": [
        "<a href=\"https://colab.research.google.com/github/nhs47/DatPro/blob/main/DatPro_Day_2.ipynb\" target=\"_parent\"><img src=\"https://colab.research.google.com/assets/colab-badge.svg\" alt=\"Open In Colab\"/></a>"
      ]
    },
    {
      "cell_type": "markdown",
      "source": [],
      "metadata": {
        "id": "DyydejxFims2"
      }
    },
    {
      "cell_type": "markdown",
      "source": [
        "# big sec\n",
        "## small sec\n",
        "### smaller sec"
      ],
      "metadata": {
        "id": "6JoKwnO9ibMq"
      }
    },
    {
      "cell_type": "code",
      "source": [
        "'''\n",
        "djfihf\n",
        "dnvvnbdvo\n",
        "''' # comment over multiple lines using three single quotation marks\n",
        "*italics*\n",
        "**bold**"
      ],
      "metadata": {
        "id": "y6m1PMPvivdP"
      },
      "execution_count": null,
      "outputs": []
    },
    {
      "cell_type": "markdown",
      "source": [
        "Use handy keywaords"
      ],
      "metadata": {
        "id": "3TZyteVsjQKd"
      }
    },
    {
      "cell_type": "markdown",
      "source": [
        "can import/export over twenry different formats"
      ],
      "metadata": {
        "id": "731GRv9fje5Z"
      }
    },
    {
      "cell_type": "markdown",
      "source": [
        "produce frequency table for\n",
        "var.value_counts()\n",
        "NAN (missing observations )"
      ],
      "metadata": {
        "id": "tl3YDiQp11Ri"
      }
    }
  ]
}